{
  "nbformat": 4,
  "nbformat_minor": 0,
  "metadata": {
    "colab": {
      "provenance": []
    },
    "kernelspec": {
      "name": "python3",
      "display_name": "Python 3"
    },
    "language_info": {
      "name": "python"
    }
  },
  "cells": [
    {
      "cell_type": "code",
      "source": [
        "# Импорт необходимых библиотек\n",
        "import pandas as pd\n",
        "from sklearn.model_selection import train_test_split\n",
        "from sklearn.ensemble import RandomForestClassifier\n",
        "from sklearn.metrics import classification_report\n",
        "import pickle\n",
        "from flask import Flask, request, jsonify\n",
        "import numpy as np\n",
        "\n"
      ],
      "metadata": {
        "id": "qdted2x5KKlR"
      },
      "execution_count": 1,
      "outputs": []
    },
    {
      "cell_type": "code",
      "source": [
        "# ====== ШАГ 1: Подготовка данных ======\n",
        "# Загрузка данных (пример с Kaggle)\n",
        "url = \"https://raw.githubusercontent.com/datasciencedojo/datasets/master/titanic.csv\"\n",
        "data = pd.read_csv(url)\n",
        "\n",
        "# Предварительная обработка данных\n",
        "data = data.drop(['Name', 'Ticket', 'Cabin'], axis=1)  # Удаляем ненужные столбцы\n",
        "data['Sex'] = data['Sex'].map({'male': 0, 'female': 1})\n",
        "data['Embarked'] = data['Embarked'].fillna('S').map({'S': 0, 'C': 1, 'Q': 2})\n",
        "data['Age'] = data['Age'].fillna(data['Age'].median())\n",
        "\n",
        "# Целевая переменная и признаки\n",
        "X = data.drop('Survived', axis=1)\n",
        "y = data['Survived']\n",
        "\n",
        "# Разделение данных\n",
        "X_train, X_test, y_train, y_test = train_test_split(X, y, test_size=0.3, random_state=42)"
      ],
      "metadata": {
        "id": "C7Bls8MlKz-D"
      },
      "execution_count": 5,
      "outputs": []
    },
    {
      "cell_type": "code",
      "source": [
        "# ====== ШАГ 2: Обучение модели ======\n",
        "# Обучение модели\n",
        "model = RandomForestClassifier(random_state=42)\n",
        "model.fit(X_train, y_train)\n",
        "\n",
        "# Оценка модели\n",
        "y_pred = model.predict(X_test)\n",
        "print(classification_report(y_test, y_pred))\n",
        "\n",
        "# Сохранение модели\n",
        "with open(\"churn_model.pkl\", \"wb\") as f:\n",
        "    pickle.dump(model, f)\n"
      ],
      "metadata": {
        "colab": {
          "base_uri": "https://localhost:8080/"
        },
        "id": "I0k_AsPdK3kM",
        "outputId": "c76a336f-1a94-4148-aa9c-ddaae0fc5c7b"
      },
      "execution_count": 3,
      "outputs": [
        {
          "output_type": "stream",
          "name": "stdout",
          "text": [
            "              precision    recall  f1-score   support\n",
            "\n",
            "           0       0.80      0.90      0.85       157\n",
            "           1       0.84      0.68      0.75       111\n",
            "\n",
            "    accuracy                           0.81       268\n",
            "   macro avg       0.82      0.79      0.80       268\n",
            "weighted avg       0.82      0.81      0.81       268\n",
            "\n"
          ]
        }
      ]
    },
    {
      "cell_type": "code",
      "source": [
        "# ====== ШАГ 3: Создание API ======\n",
        "# Загрузка обученной модели\n",
        "with open(\"churn_model.pkl\", \"rb\") as f:\n",
        "    model = pickle.load(f)\n",
        "\n",
        "# Создание Flask приложения\n",
        "app = Flask(__name__)\n",
        "\n",
        "@app.route('/predict', methods=['POST'])\n",
        "def predict():\n",
        "    # Получение данных из запроса\n",
        "    data = request.json\n",
        "    features = np.array([\n",
        "        data['Pclass'],\n",
        "        data['Sex'],\n",
        "        data['Age'],\n",
        "        data['SibSp'],\n",
        "        data['Parch'],\n",
        "        data['Fare'],\n",
        "        data['Embarked']\n",
        "    ]).reshape(1, -1)\n",
        "\n",
        "    # Прогноз\n",
        "    prediction = model.predict(features)[0]\n",
        "    result = \"Отток\" if prediction == 1 else \"Остался\"\n",
        "\n",
        "    return jsonify({\"prediction\": result})\n",
        "\n",
        "# Запуск сервера\n",
        "if __name__ == \"__main__\":\n",
        "    app.run(debug=True)\n"
      ],
      "metadata": {
        "colab": {
          "base_uri": "https://localhost:8080/"
        },
        "id": "oeeKPd0FLAG5",
        "outputId": "9755e17b-8331-468c-bbec-e70891c700fe"
      },
      "execution_count": 4,
      "outputs": [
        {
          "output_type": "stream",
          "name": "stdout",
          "text": [
            " * Serving Flask app '__main__'\n",
            " * Debug mode: on\n"
          ]
        },
        {
          "output_type": "stream",
          "name": "stderr",
          "text": [
            "INFO:werkzeug:\u001b[31m\u001b[1mWARNING: This is a development server. Do not use it in a production deployment. Use a production WSGI server instead.\u001b[0m\n",
            " * Running on http://127.0.0.1:5000\n",
            "INFO:werkzeug:\u001b[33mPress CTRL+C to quit\u001b[0m\n",
            "INFO:werkzeug: * Restarting with stat\n"
          ]
        }
      ]
    }
  ]
}